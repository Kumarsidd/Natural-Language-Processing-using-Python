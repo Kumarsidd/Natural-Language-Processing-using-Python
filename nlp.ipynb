{
 "cells": [
  {
   "cell_type": "code",
   "execution_count": 1,
   "id": "11dfa486",
   "metadata": {
    "collapsed": true
   },
   "outputs": [
    {
     "name": "stdout",
     "output_type": "stream",
     "text": [
      "Requirement already satisfied: happytransformer in c:\\users\\siddhesh\\anaconda3\\lib\\site-packages (2.4.1)\n",
      "Requirement already satisfied: sentencepiece in c:\\users\\siddhesh\\anaconda3\\lib\\site-packages (from happytransformer) (0.1.97)\n",
      "Requirement already satisfied: datasets>=1.6.0 in c:\\users\\siddhesh\\anaconda3\\lib\\site-packages (from happytransformer) (2.5.2)\n",
      "Requirement already satisfied: tqdm>=4.43 in c:\\users\\siddhesh\\anaconda3\\lib\\site-packages (from happytransformer) (4.62.3)\n",
      "Requirement already satisfied: transformers>=4.4.0 in c:\\users\\siddhesh\\anaconda3\\lib\\site-packages (from happytransformer) (4.23.1)\n",
      "Requirement already satisfied: protobuf in c:\\users\\siddhesh\\anaconda3\\lib\\site-packages (from happytransformer) (4.21.7)\n",
      "Requirement already satisfied: torch>=1.0 in c:\\users\\siddhesh\\anaconda3\\lib\\site-packages (from happytransformer) (1.8.2+cpu)\n",
      "Requirement already satisfied: dill<0.3.6 in c:\\users\\siddhesh\\anaconda3\\lib\\site-packages (from datasets>=1.6.0->happytransformer) (0.3.5.1)\n",
      "Requirement already satisfied: requests>=2.19.0 in c:\\users\\siddhesh\\anaconda3\\lib\\site-packages (from datasets>=1.6.0->happytransformer) (2.26.0)\n",
      "Requirement already satisfied: aiohttp in c:\\users\\siddhesh\\anaconda3\\lib\\site-packages (from datasets>=1.6.0->happytransformer) (3.8.3)\n",
      "Requirement already satisfied: responses<0.19 in c:\\users\\siddhesh\\anaconda3\\lib\\site-packages (from datasets>=1.6.0->happytransformer) (0.18.0)\n",
      "Requirement already satisfied: numpy>=1.17 in c:\\users\\siddhesh\\anaconda3\\lib\\site-packages (from datasets>=1.6.0->happytransformer) (1.20.3)\n",
      "Requirement already satisfied: packaging in c:\\users\\siddhesh\\anaconda3\\lib\\site-packages (from datasets>=1.6.0->happytransformer) (21.0)\n",
      "Requirement already satisfied: multiprocess in c:\\users\\siddhesh\\anaconda3\\lib\\site-packages (from datasets>=1.6.0->happytransformer) (0.70.13)\n",
      "Requirement already satisfied: fsspec[http]>=2021.11.1 in c:\\users\\siddhesh\\anaconda3\\lib\\site-packages (from datasets>=1.6.0->happytransformer) (2022.8.2)\n",
      "Requirement already satisfied: pandas in c:\\users\\siddhesh\\anaconda3\\lib\\site-packages (from datasets>=1.6.0->happytransformer) (1.3.4)\n",
      "Requirement already satisfied: pyarrow>=6.0.0 in c:\\users\\siddhesh\\anaconda3\\lib\\site-packages (from datasets>=1.6.0->happytransformer) (9.0.0)\n",
      "Requirement already satisfied: xxhash in c:\\users\\siddhesh\\anaconda3\\lib\\site-packages (from datasets>=1.6.0->happytransformer) (3.0.0)\n",
      "Requirement already satisfied: huggingface-hub<1.0.0,>=0.2.0 in c:\\users\\siddhesh\\anaconda3\\lib\\site-packages (from datasets>=1.6.0->happytransformer) (0.10.1)\n",
      "Requirement already satisfied: aiosignal>=1.1.2 in c:\\users\\siddhesh\\anaconda3\\lib\\site-packages (from aiohttp->datasets>=1.6.0->happytransformer) (1.2.0)\n",
      "Requirement already satisfied: frozenlist>=1.1.1 in c:\\users\\siddhesh\\anaconda3\\lib\\site-packages (from aiohttp->datasets>=1.6.0->happytransformer) (1.3.1)\n",
      "Requirement already satisfied: async-timeout<5.0,>=4.0.0a3 in c:\\users\\siddhesh\\anaconda3\\lib\\site-packages (from aiohttp->datasets>=1.6.0->happytransformer) (4.0.2)\n",
      "Requirement already satisfied: charset-normalizer<3.0,>=2.0 in c:\\users\\siddhesh\\anaconda3\\lib\\site-packages (from aiohttp->datasets>=1.6.0->happytransformer) (2.0.4)\n",
      "Requirement already satisfied: yarl<2.0,>=1.0 in c:\\users\\siddhesh\\anaconda3\\lib\\site-packages (from aiohttp->datasets>=1.6.0->happytransformer) (1.8.1)\n",
      "Requirement already satisfied: multidict<7.0,>=4.5 in c:\\users\\siddhesh\\anaconda3\\lib\\site-packages (from aiohttp->datasets>=1.6.0->happytransformer) (6.0.2)\n",
      "Requirement already satisfied: attrs>=17.3.0 in c:\\users\\siddhesh\\anaconda3\\lib\\site-packages (from aiohttp->datasets>=1.6.0->happytransformer) (21.2.0)\n",
      "Requirement already satisfied: filelock in c:\\users\\siddhesh\\anaconda3\\lib\\site-packages (from huggingface-hub<1.0.0,>=0.2.0->datasets>=1.6.0->happytransformer) (3.3.1)\n",
      "Requirement already satisfied: pyyaml>=5.1 in c:\\users\\siddhesh\\anaconda3\\lib\\site-packages (from huggingface-hub<1.0.0,>=0.2.0->datasets>=1.6.0->happytransformer) (6.0)\n",
      "Requirement already satisfied: typing-extensions>=3.7.4.3 in c:\\users\\siddhesh\\anaconda3\\lib\\site-packages (from huggingface-hub<1.0.0,>=0.2.0->datasets>=1.6.0->happytransformer) (3.10.0.2)\n",
      "Requirement already satisfied: pyparsing>=2.0.2 in c:\\users\\siddhesh\\anaconda3\\lib\\site-packages (from packaging->datasets>=1.6.0->happytransformer) (3.0.4)\n",
      "Requirement already satisfied: urllib3<1.27,>=1.21.1 in c:\\users\\siddhesh\\anaconda3\\lib\\site-packages (from requests>=2.19.0->datasets>=1.6.0->happytransformer) (1.26.7)\n",
      "Requirement already satisfied: idna<4,>=2.5 in c:\\users\\siddhesh\\anaconda3\\lib\\site-packages (from requests>=2.19.0->datasets>=1.6.0->happytransformer) (3.2)\n",
      "Requirement already satisfied: certifi>=2017.4.17 in c:\\users\\siddhesh\\anaconda3\\lib\\site-packages (from requests>=2.19.0->datasets>=1.6.0->happytransformer) (2021.10.8)\n",
      "Requirement already satisfied: colorama in c:\\users\\siddhesh\\anaconda3\\lib\\site-packages (from tqdm>=4.43->happytransformer) (0.4.4)\n",
      "Requirement already satisfied: regex!=2019.12.17 in c:\\users\\siddhesh\\anaconda3\\lib\\site-packages (from transformers>=4.4.0->happytransformer) (2021.8.3)\n",
      "Requirement already satisfied: tokenizers!=0.11.3,<0.14,>=0.11.1 in c:\\users\\siddhesh\\anaconda3\\lib\\site-packages (from transformers>=4.4.0->happytransformer) (0.13.1)\n",
      "Requirement already satisfied: python-dateutil>=2.7.3 in c:\\users\\siddhesh\\anaconda3\\lib\\site-packages (from pandas->datasets>=1.6.0->happytransformer) (2.8.2)\n",
      "Requirement already satisfied: pytz>=2017.3 in c:\\users\\siddhesh\\anaconda3\\lib\\site-packages (from pandas->datasets>=1.6.0->happytransformer) (2021.3)\n",
      "Requirement already satisfied: six>=1.5 in c:\\users\\siddhesh\\anaconda3\\lib\\site-packages (from python-dateutil>=2.7.3->pandas->datasets>=1.6.0->happytransformer) (1.16.0)\n",
      "Note: you may need to restart the kernel to use updated packages.\n"
     ]
    }
   ],
   "source": [
    "pip install happytransformer"
   ]
  },
  {
   "cell_type": "code",
   "execution_count": 4,
   "id": "bc67d7e0",
   "metadata": {},
   "outputs": [],
   "source": [
    "from happytransformer import HappyTextToText"
   ]
  },
  {
   "cell_type": "code",
   "execution_count": 5,
   "id": "43045209",
   "metadata": {
    "collapsed": true
   },
   "outputs": [
    {
     "data": {
      "application/vnd.jupyter.widget-view+json": {
       "model_id": "2b2babb5b60a4304bb350c4fba5348a6",
       "version_major": 2,
       "version_minor": 0
      },
      "text/plain": [
       "Downloading:   0%|          | 0.00/1.42k [00:00<?, ?B/s]"
      ]
     },
     "metadata": {},
     "output_type": "display_data"
    },
    {
     "name": "stderr",
     "output_type": "stream",
     "text": [
      "C:\\Users\\siddhesh\\anaconda3\\lib\\site-packages\\huggingface_hub\\file_download.py:123: UserWarning: `huggingface_hub` cache-system uses symlinks by default to efficiently store duplicated files but your machine does not support them in C:\\Users\\siddhesh\\.cache\\huggingface\\hub. Caching files will still work but in a degraded version that might require more space on your disk. This warning can be disabled by setting the `HF_HUB_DISABLE_SYMLINKS_WARNING` environment variable. For more details, see https://huggingface.co/docs/huggingface_hub/how-to-cache#limitations.\n",
      "To support symlinks on Windows, you either need to activate Developer Mode or to run Python as an administrator. In order to see activate developer mode, see this article: https://docs.microsoft.com/en-us/windows/apps/get-started/enable-your-device-for-development\n",
      "  warnings.warn(message)\n"
     ]
    },
    {
     "data": {
      "application/vnd.jupyter.widget-view+json": {
       "model_id": "58787ea1e75547b59247dc776558412a",
       "version_major": 2,
       "version_minor": 0
      },
      "text/plain": [
       "Downloading:   0%|          | 0.00/892M [00:00<?, ?B/s]"
      ]
     },
     "metadata": {},
     "output_type": "display_data"
    },
    {
     "data": {
      "application/vnd.jupyter.widget-view+json": {
       "model_id": "172f7ef380984fe792a8b21a00afd31e",
       "version_major": 2,
       "version_minor": 0
      },
      "text/plain": [
       "Downloading:   0%|          | 0.00/1.92k [00:00<?, ?B/s]"
      ]
     },
     "metadata": {},
     "output_type": "display_data"
    },
    {
     "data": {
      "application/vnd.jupyter.widget-view+json": {
       "model_id": "4de8647107544d8ca0a9576104efdcb6",
       "version_major": 2,
       "version_minor": 0
      },
      "text/plain": [
       "Downloading:   0%|          | 0.00/792k [00:00<?, ?B/s]"
      ]
     },
     "metadata": {},
     "output_type": "display_data"
    },
    {
     "data": {
      "application/vnd.jupyter.widget-view+json": {
       "model_id": "10be0d37cf7c4ad9bee831e5aff97dbe",
       "version_major": 2,
       "version_minor": 0
      },
      "text/plain": [
       "Downloading:   0%|          | 0.00/1.39M [00:00<?, ?B/s]"
      ]
     },
     "metadata": {},
     "output_type": "display_data"
    },
    {
     "data": {
      "application/vnd.jupyter.widget-view+json": {
       "model_id": "47d210e5794d452b8ca859862ea4ff78",
       "version_major": 2,
       "version_minor": 0
      },
      "text/plain": [
       "Downloading:   0%|          | 0.00/1.79k [00:00<?, ?B/s]"
      ]
     },
     "metadata": {},
     "output_type": "display_data"
    },
    {
     "name": "stderr",
     "output_type": "stream",
     "text": [
      "10/11/2022 20:21:48 - INFO - happytransformer.happy_transformer -   Using model: cpu\n"
     ]
    }
   ],
   "source": [
    "happy_tt = HappyTextToText(\"T5\", \"vennify/t5-base-grammar-correction\")\n"
   ]
  },
  {
   "cell_type": "markdown",
   "id": "d0f76a01",
   "metadata": {},
   "source": [
    "# GRAMMAR CORRECTION"
   ]
  },
  {
   "cell_type": "code",
   "execution_count": 6,
   "id": "71791b6d",
   "metadata": {},
   "outputs": [],
   "source": [
    "from happytransformer import TTSettings\n",
    "\n",
    "beam_settings =  TTSettings(num_beams=5, min_length=1, max_length=100)"
   ]
  },
  {
   "cell_type": "code",
   "execution_count": 19,
   "id": "bb09cd2c",
   "metadata": {},
   "outputs": [
    {
     "name": "stdout",
     "output_type": "stream",
     "text": [
      "Your laptop is broken.\n"
     ]
    }
   ],
   "source": [
    "inputText = \"grammar: You're laptops is broken \"\n",
    "outputText = happy_tt.generate_text(inputText, args=beam_settings)\n",
    "print(outputText.text)"
   ]
  },
  {
   "cell_type": "markdown",
   "id": "a2ab8c16",
   "metadata": {},
   "source": [
    "# TEXT PREDICTION"
   ]
  },
  {
   "cell_type": "code",
   "execution_count": 12,
   "id": "9deca4a2",
   "metadata": {},
   "outputs": [],
   "source": [
    "from happytransformer import HappyWordPrediction"
   ]
  },
  {
   "cell_type": "code",
   "execution_count": 18,
   "id": "289f4adb",
   "metadata": {},
   "outputs": [
    {
     "name": "stderr",
     "output_type": "stream",
     "text": [
      "10/11/2022 20:45:32 - INFO - happytransformer.happy_transformer -   Using model: cpu\n"
     ]
    },
    {
     "data": {
      "text/plain": [
       "'I think therefore I am gay'"
      ]
     },
     "execution_count": 18,
     "metadata": {},
     "output_type": "execute_result"
    }
   ],
   "source": [
    "happy_wp = HappyWordPrediction() \n",
    "text = \"I think therefore I [MASK] gay\"\n",
    "result = happy_wp.predict_mask(text)\n",
    "result2 = result[0].token\n",
    "text.replace('[MASK]', result2)"
   ]
  },
  {
   "cell_type": "markdown",
   "id": "75ed653a",
   "metadata": {},
   "source": [
    "# TEXT CLASSIFICATION"
   ]
  },
  {
   "cell_type": "code",
   "execution_count": 22,
   "id": "82ad06fc",
   "metadata": {},
   "outputs": [],
   "source": [
    "from happytransformer import HappyTextClassification "
   ]
  },
  {
   "cell_type": "code",
   "execution_count": 23,
   "id": "8ed0debf",
   "metadata": {
    "collapsed": true
   },
   "outputs": [
    {
     "data": {
      "application/vnd.jupyter.widget-view+json": {
       "model_id": "02586b22da2743e8b7ea0203fba3d5c8",
       "version_major": 2,
       "version_minor": 0
      },
      "text/plain": [
       "Downloading:   0%|          | 0.00/758 [00:00<?, ?B/s]"
      ]
     },
     "metadata": {},
     "output_type": "display_data"
    },
    {
     "data": {
      "application/vnd.jupyter.widget-view+json": {
       "model_id": "821e4ec97e974d7da7045d05f8cbde29",
       "version_major": 2,
       "version_minor": 0
      },
      "text/plain": [
       "Downloading:   0%|          | 0.00/438M [00:00<?, ?B/s]"
      ]
     },
     "metadata": {},
     "output_type": "display_data"
    },
    {
     "data": {
      "application/vnd.jupyter.widget-view+json": {
       "model_id": "f33811264b374135bbbd9ed73845acf0",
       "version_major": 2,
       "version_minor": 0
      },
      "text/plain": [
       "Downloading:   0%|          | 0.00/252 [00:00<?, ?B/s]"
      ]
     },
     "metadata": {},
     "output_type": "display_data"
    },
    {
     "data": {
      "application/vnd.jupyter.widget-view+json": {
       "model_id": "1b42e05a5c574d12b3946312417ee995",
       "version_major": 2,
       "version_minor": 0
      },
      "text/plain": [
       "Downloading:   0%|          | 0.00/232k [00:00<?, ?B/s]"
      ]
     },
     "metadata": {},
     "output_type": "display_data"
    },
    {
     "data": {
      "application/vnd.jupyter.widget-view+json": {
       "model_id": "14261a4567984e179b0cace5ddd5cbd6",
       "version_major": 2,
       "version_minor": 0
      },
      "text/plain": [
       "Downloading:   0%|          | 0.00/112 [00:00<?, ?B/s]"
      ]
     },
     "metadata": {},
     "output_type": "display_data"
    },
    {
     "name": "stderr",
     "output_type": "stream",
     "text": [
      "10/11/2022 21:07:24 - INFO - happytransformer.happy_transformer -   Using model: cpu\n"
     ]
    }
   ],
   "source": [
    "happy_tc = HappyTextClassification(\"BERT\", \"ProsusAI/finbert\", num_labels=3)"
   ]
  },
  {
   "cell_type": "code",
   "execution_count": 29,
   "id": "d1be040c",
   "metadata": {},
   "outputs": [
    {
     "name": "stdout",
     "output_type": "stream",
     "text": [
      "positive\n",
      "92.91\n"
     ]
    }
   ],
   "source": [
    "result1 = happy_tc.classify_text(\"Tesla's stock just increased by 20%\")\n",
    "print(result1.label)\n",
    "print(round(result1.score * 100, 2))"
   ]
  },
  {
   "cell_type": "code",
   "execution_count": null,
   "id": "42ba1f19",
   "metadata": {},
   "outputs": [],
   "source": []
  }
 ],
 "metadata": {
  "kernelspec": {
   "display_name": "Python 3 (ipykernel)",
   "language": "python",
   "name": "python3"
  },
  "language_info": {
   "codemirror_mode": {
    "name": "ipython",
    "version": 3
   },
   "file_extension": ".py",
   "mimetype": "text/x-python",
   "name": "python",
   "nbconvert_exporter": "python",
   "pygments_lexer": "ipython3",
   "version": "3.9.7"
  }
 },
 "nbformat": 4,
 "nbformat_minor": 5
}
